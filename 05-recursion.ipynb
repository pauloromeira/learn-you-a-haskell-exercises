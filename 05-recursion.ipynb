{
 "cells": [
  {
   "cell_type": "markdown",
   "metadata": {},
   "source": [
    "# Exercises"
   ]
  },
  {
   "cell_type": "markdown",
   "metadata": {},
   "source": [
    "## 05. Recursion"
   ]
  },
  {
   "cell_type": "markdown",
   "metadata": {},
   "source": [
    "### 1. Raise x to the power y, using recursion"
   ]
  },
  {
   "cell_type": "code",
   "execution_count": null,
   "metadata": {
    "collapsed": true
   },
   "outputs": [],
   "source": [
    "power :: Int -> Int -> Int\n",
    "power x y = undefined\n",
    "\n",
    "-- Test:\n",
    "power 5 2 == 25"
   ]
  },
  {
   "cell_type": "markdown",
   "metadata": {},
   "source": [
    "### 2. Create a list of length n of the fibbonaci sequence in reverse order\n",
    "Try to use a where clause"
   ]
  },
  {
   "cell_type": "code",
   "execution_count": null,
   "metadata": {
    "collapsed": true
   },
   "outputs": [],
   "source": [
    "fib :: (Num a, Eq a) => a -> [a]\n",
    "fib x = undefined\n",
    "\n",
    "-- Test:\n",
    "fib 0 == [0]\n",
    "fib 1 == [1, 0]\n",
    "fib 10 == [55,34,21,13,8,5,3,2,1,1,0]"
   ]
  },
  {
   "cell_type": "markdown",
   "metadata": {},
   "source": [
    "### 3. This is not recursive, but have a go anyway.\n",
    "Create a function which takes two parameters, a number and a step  \n",
    "The result is the sign of the original number reversed, and the step added to the absolute value"
   ]
  },
  {
   "cell_type": "code",
   "execution_count": null,
   "metadata": {
    "collapsed": false
   },
   "outputs": [],
   "source": [
    "stepReverseSign :: (Fractional a, Ord a) => a -> a -> a\n",
    "stepReverseSign a = undefined\n",
    "\n",
    "-- Test:\n",
    "stepReverseSign 6 2 == -8\n",
    "stepReverseSign -3 1 == 4\n",
    "stepReverseSign 1 2 == -3"
   ]
  },
  {
   "cell_type": "markdown",
   "metadata": {},
   "source": [
    "### 4. Lets calculate pi\n",
    "The Leibniz formula for pi (http://en.wikipedia.org/wiki/Leibniz_formula_for_%CF%80)  \n",
    "Can be defined as pi = (4/1) - (4/3) + (4/5) - (4/7) ....  \n",
    "We can create a function, where given a certain tolerance, we can recursively calculate  \n",
    "Pi to within that tolerance.  \n",
    "Lets create two functions, piCalc, and piCalc', the latter we will recursively call  \n",
    "until our pi calculation is within the tolerance  \n",
    "\n",
    "The piCalc function is defined as:  \n",
    "piCalc :: (Fractional a, Integral b, Ord a) => a -> (a, b)  \n",
    "\n",
    "Given a tolerance, say, 0.001, it will return a tuple.  \n",
    "fst is pi to an accuracy of the tolerance, 0.001 in this case  \n",
    "snd is the number of recursive steps taken to calculate it, after all this chapter is about recursion!  \n",
    "Example: piCalc 0.001 = (3.1420924036835256,2000)  \n",
    "\n",
    "The piCalc' function is defined as   \n",
    "piCalc' :: (Ord a, Fractional a, Integral b) => a -> a -> a -> b -> (a, b)  \n",
    "Lots of parameters!  \n",
    "The first parameter is the current denominator from the Leibniz formula  \n",
    "The next is our calculation of pi from our previous attempt  \n",
    "The next is the tolerance  \n",
    "The final parameter is the number of times this function has been called (ie, we add one every time we recurse  \n",
    "Example piCalc' 1 0.0 0.001 0 = (3.1420924036835256,2000)  \n",
    "\n",
    "Feel free to change the parameter order, what parameters you need etc in order to get this to work for you,  \n",
    "But, of course the output of piCalc should remain as (pi, count)  \n",
    "\n",
    "You may find the stepReverseSign function handy"
   ]
  },
  {
   "cell_type": "code",
   "execution_count": null,
   "metadata": {
    "collapsed": true
   },
   "outputs": [],
   "source": [
    "piCalc :: (Fractional a, Integral b, Ord a) => a -> (a, b)\n",
    "piCalc a = undefined\n",
    "\n",
    "piCalc' :: (Ord a, Fractional a, Integral b) => a -> a -> a -> b -> (a, b)\n",
    "piCalc' w x y z = undefined\n",
    "\n",
    "-- Test:\n",
    "piCalc 0.001 == (3.1420924036835256, 2000)"
   ]
  }
 ],
 "metadata": {
  "kernelspec": {
   "display_name": "Haskell",
   "language": "haskell",
   "name": "haskell"
  },
  "language_info": {
   "codemirror_mode": "ihaskell",
   "file_extension": ".hs",
   "name": "haskell",
   "version": "7.10.2"
  }
 },
 "nbformat": 4,
 "nbformat_minor": 0
}
