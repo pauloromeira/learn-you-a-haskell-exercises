{
 "cells": [
  {
   "cell_type": "markdown",
   "metadata": {},
   "source": [
    "# Exercises"
   ]
  },
  {
   "cell_type": "markdown",
   "metadata": {},
   "source": [
    "## 05. Recursion"
   ]
  },
  {
   "cell_type": "markdown",
   "metadata": {},
   "source": [
    "### 1. Raise x to the power y, using recursion"
   ]
  },
  {
   "cell_type": "code",
   "execution_count": 1,
   "metadata": {
    "collapsed": false
   },
   "outputs": [
    {
     "data": {
      "text/plain": [
       "True"
      ]
     },
     "metadata": {},
     "output_type": "display_data"
    }
   ],
   "source": [
    "power :: Int -> Int -> Int\n",
    "power _ 0 = 1\n",
    "power x y = x * power x (y - 1)\n",
    "\n",
    "-- Test:\n",
    "power 5 2 == 25"
   ]
  },
  {
   "cell_type": "markdown",
   "metadata": {},
   "source": [
    "### 2. Create a list of length n of the fibbonaci sequence in reverse order\n",
    "Try to use a where clause"
   ]
  },
  {
   "cell_type": "code",
   "execution_count": 2,
   "metadata": {
    "collapsed": false
   },
   "outputs": [
    {
     "data": {
      "text/plain": [
       "True"
      ]
     },
     "metadata": {},
     "output_type": "display_data"
    },
    {
     "data": {
      "text/plain": [
       "True"
      ]
     },
     "metadata": {},
     "output_type": "display_data"
    },
    {
     "data": {
      "text/plain": [
       "True"
      ]
     },
     "metadata": {},
     "output_type": "display_data"
    }
   ],
   "source": [
    "fib :: (Num a, Eq a) => a -> [a]\n",
    "fib 0 = [0]\n",
    "fib 1 = [1, 0]\n",
    "fib x = sum (take 2 lfib) : lfib\n",
    "    where lfib = fib (x - 1)\n",
    "\n",
    "-- Test:\n",
    "fib 0 == [0]\n",
    "fib 1 == [1, 0]\n",
    "fib 10 == [55,34,21,13,8,5,3,2,1,1,0]"
   ]
  },
  {
   "cell_type": "markdown",
   "metadata": {},
   "source": [
    "### 3. This is not recursive, but have a go anyway.\n",
    "Create a function which takes two parameters, a number and a step  \n",
    "The result is the sign of the original number reversed, and the step added to the absolute value"
   ]
  },
  {
   "cell_type": "code",
   "execution_count": 3,
   "metadata": {
    "collapsed": false
   },
   "outputs": [
    {
     "data": {
      "text/plain": [
       "True"
      ]
     },
     "metadata": {},
     "output_type": "display_data"
    },
    {
     "data": {
      "text/plain": [
       "True"
      ]
     },
     "metadata": {},
     "output_type": "display_data"
    },
    {
     "data": {
      "text/plain": [
       "True"
      ]
     },
     "metadata": {},
     "output_type": "display_data"
    }
   ],
   "source": [
    "stepReverseSign :: (Fractional a, Ord a) => a -> a -> a\n",
    "stepReverseSign a s\n",
    "    | a < 0 = (-a) + s\n",
    "    | otherwise = - (a + s)\n",
    "\n",
    "-- Test:\n",
    "stepReverseSign 6 2 == (-8)\n",
    "stepReverseSign (-3) 1 == 4\n",
    "stepReverseSign 1 2 == (-3)"
   ]
  },
  {
   "cell_type": "markdown",
   "metadata": {},
   "source": [
    "### 4. Lets calculate pi\n",
    "The Leibniz formula for pi (http://en.wikipedia.org/wiki/Leibniz_formula_for_%CF%80)  \n",
    "Can be defined as pi = (4/1) - (4/3) + (4/5) - (4/7) ....  \n",
    "We can create a function, where given a certain tolerance, we can recursively calculate  \n",
    "Pi to within that tolerance.  \n",
    "Lets create two functions, piCalc, and piCalc', the latter we will recursively call  \n",
    "until our pi calculation is within the tolerance  \n",
    "\n",
    "The piCalc function is defined as:  \n",
    "piCalc :: (Fractional a, Integral b, Ord a) => a -> (a, b)  \n",
    "\n",
    "Given a tolerance, say, 0.001, it will return a tuple.  \n",
    "fst is pi to an accuracy of the tolerance, 0.001 in this case  \n",
    "snd is the number of recursive steps taken to calculate it, after all this chapter is about recursion!  \n",
    "Example: piCalc 0.001 = (3.142092403683528,2000)  \n",
    "\n",
    "The piCalc' function is defined as   \n",
    "piCalc' :: (Ord a, Fractional a, Integral b) => a -> a -> a -> b -> (a, b)  \n",
    "Lots of parameters!  \n",
    "The first parameter is the current denominator from the Leibniz formula  \n",
    "The next is our calculation of pi from our previous attempt  \n",
    "The next is the tolerance  \n",
    "The final parameter is the number of times this function has been called (ie, we add one every time we recurse  \n",
    "Example piCalc' 1 0.0 0.001 0 = (3.142092403683528,2000)  \n",
    "\n",
    "Feel free to change the parameter order, what parameters you need etc in order to get this to work for you,  \n",
    "But, of course the output of piCalc should remain as (pi, count)  \n",
    "\n",
    "You may find the stepReverseSign function handy"
   ]
  },
  {
   "cell_type": "code",
   "execution_count": 4,
   "metadata": {
    "collapsed": false
   },
   "outputs": [
    {
     "data": {
      "text/plain": [
       "True"
      ]
     },
     "metadata": {},
     "output_type": "display_data"
    }
   ],
   "source": [
    "piCalc :: (Fractional a, Integral b, Ord a) => a -> (a, b)\n",
    "piCalc a = piCalc' 1 1 a\n",
    "\n",
    "-- params: denominator, sign (+1 or -1), tolerance\n",
    "piCalc' :: (Ord a, Fractional a, Integral b) => a -> a -> a -> (a, b)\n",
    "piCalc' d s t\n",
    "    | 4 / d <= t = (curr, 0)\n",
    "    | otherwise  = (curr + next, n + 1)\n",
    "    where\n",
    "        curr = s * (4 / d)\n",
    "        (next, n) = piCalc' (d + 2) (-s) t\n",
    "\n",
    "-- Test:\n",
    "piCalc 0.001 == (3.142092403683528, 2000)"
   ]
  }
 ],
 "metadata": {
  "kernelspec": {
   "display_name": "Haskell",
   "language": "haskell",
   "name": "haskell"
  },
  "language_info": {
   "codemirror_mode": "ihaskell",
   "file_extension": ".hs",
   "name": "haskell",
   "version": "7.10.2"
  }
 },
 "nbformat": 4,
 "nbformat_minor": 0
}
