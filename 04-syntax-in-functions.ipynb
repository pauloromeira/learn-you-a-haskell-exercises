{
 "cells": [
  {
   "cell_type": "markdown",
   "metadata": {},
   "source": [
    "# Exercises"
   ]
  },
  {
   "cell_type": "markdown",
   "metadata": {},
   "source": [
    "## 04. Syntax in Functions"
   ]
  },
  {
   "cell_type": "markdown",
   "metadata": {},
   "source": [
    "### 1. This function should print a single digit number as English text, or \"unknown\" if it's out of the range 0-9."
   ]
  },
  {
   "cell_type": "code",
   "execution_count": null,
   "metadata": {
    "collapsed": true
   },
   "outputs": [],
   "source": [
    "englishDigit :: Int -> String\n",
    "englishDigit x = undefined\n",
    "\n",
    "-- Test:\n",
    "(inp, out) = ([0..10], [\"zero\",\"one\",\"two\",\"three\",\"four\",\"five\",\"six\",\"seven\",\"eight\",\"nine\",\"unknown\"])\n",
    "map englishDigit inp == out"
   ]
  },
  {
   "cell_type": "markdown",
   "metadata": {},
   "source": [
    "### 2. Given a tuple, divide fst by snd, using pattern matching. It should return undefined for division by zero."
   ]
  },
  {
   "cell_type": "code",
   "execution_count": null,
   "metadata": {
    "collapsed": true
   },
   "outputs": [],
   "source": [
    "divTuple :: (Eq a, Fractional a) => (a, a) -> a\n",
    "divTuple (x, y) = undefined\n",
    "\n",
    "-- Test:\n",
    "divTuple (5,10) == 0.5\n",
    "divTuple (5, 0)"
   ]
  },
  {
   "cell_type": "markdown",
   "metadata": {},
   "source": [
    "### 3. If the first three numbers in a list are all zero, return True."
   ]
  },
  {
   "cell_type": "code",
   "execution_count": null,
   "metadata": {
    "collapsed": true
   },
   "outputs": [],
   "source": [
    "threeZeroList :: [Int] -> Bool\n",
    "threeZeroList xs = undefined\n",
    "\n",
    "-- Test:\n",
    "not (threeZeroList [1,2])\n",
    "threeZeroList [0,0,0,1]"
   ]
  }
 ],
 "metadata": {
  "kernelspec": {
   "display_name": "Haskell",
   "language": "haskell",
   "name": "haskell"
  },
  "language_info": {
   "codemirror_mode": "ihaskell",
   "file_extension": ".hs",
   "name": "haskell",
   "version": "7.10.2"
  }
 },
 "nbformat": 4,
 "nbformat_minor": 0
}
