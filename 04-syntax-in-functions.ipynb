{
 "cells": [
  {
   "cell_type": "markdown",
   "metadata": {},
   "source": [
    "# Exercises"
   ]
  },
  {
   "cell_type": "markdown",
   "metadata": {},
   "source": [
    "## 04. Syntax in Functions"
   ]
  },
  {
   "cell_type": "markdown",
   "metadata": {},
   "source": [
    "### 1. This function should print a single digit number as English text, or \"unknown\" if it's out of the range 0-9."
   ]
  },
  {
   "cell_type": "code",
   "execution_count": 1,
   "metadata": {
    "collapsed": false
   },
   "outputs": [
    {
     "data": {
      "text/plain": [
       "True"
      ]
     },
     "metadata": {},
     "output_type": "display_data"
    },
    {
     "data": {
      "text/plain": [
       "True"
      ]
     },
     "metadata": {},
     "output_type": "display_data"
    },
    {
     "data": {
      "text/plain": [
       "True"
      ]
     },
     "metadata": {},
     "output_type": "display_data"
    },
    {
     "data": {
      "text/plain": [
       "True"
      ]
     },
     "metadata": {},
     "output_type": "display_data"
    },
    {
     "data": {
      "text/plain": [
       "True"
      ]
     },
     "metadata": {},
     "output_type": "display_data"
    }
   ],
   "source": [
    "-- Pattern matching\n",
    "englishDigit :: Int -> String\n",
    "englishDigit 0 = \"zero\"\n",
    "englishDigit 1 = \"one\"\n",
    "englishDigit 2 = \"two\"\n",
    "englishDigit 3 = \"three\"\n",
    "englishDigit 4 = \"four\"\n",
    "englishDigit 5 = \"five\"\n",
    "englishDigit 6 = \"six\"\n",
    "englishDigit 7 = \"seven\"\n",
    "englishDigit 8 = \"eight\"\n",
    "englishDigit 9 = \"nine\"\n",
    "englishDigit _ = \"unknown\"\n",
    "\n",
    "-- Guards\n",
    "englishDigit' :: Int -> String\n",
    "englishDigit' x\n",
    "    | x == 0    = \"zero\"\n",
    "    | x == 1    = \"one\"\n",
    "    | x == 2    = \"two\"\n",
    "    | x == 3    = \"three\"\n",
    "    | x == 4    = \"four\"\n",
    "    | x == 5    = \"five\"\n",
    "    | x == 6    = \"six\"\n",
    "    | x == 7    = \"seven\"\n",
    "    | x == 8    = \"eight\"\n",
    "    | x == 9    = \"nine\"\n",
    "    | otherwise = \"unknown\"\n",
    "\n",
    "-- Where\n",
    "englishDigit'' :: Int -> String\n",
    "englishDigit'' x = d x\n",
    "    where d 0 = \"zero\"\n",
    "          d 1 = \"one\"\n",
    "          d 2 = \"two\"\n",
    "          d 3 = \"three\"\n",
    "          d 4 = \"four\"\n",
    "          d 5 = \"five\"\n",
    "          d 6 = \"six\"\n",
    "          d 7 = \"seven\"\n",
    "          d 8 = \"eight\"\n",
    "          d 9 = \"nine\"\n",
    "          d _ = \"unknown\"\n",
    "\n",
    "-- Let\n",
    "englishDigit''' :: Int -> String\n",
    "englishDigit''' x =\n",
    "      let d 0 = \"zero\"\n",
    "          d 1 = \"one\"\n",
    "          d 2 = \"two\"\n",
    "          d 3 = \"three\"\n",
    "          d 4 = \"four\"\n",
    "          d 5 = \"five\"\n",
    "          d 6 = \"six\"\n",
    "          d 7 = \"seven\"\n",
    "          d 8 = \"eight\"\n",
    "          d 9 = \"nine\"\n",
    "          d _ = \"unknown\"\n",
    "      in d x\n",
    "\n",
    "-- Case\n",
    "englishDigit'''' :: Int -> String\n",
    "englishDigit'''' x =\n",
    "    case x of 0 -> \"zero\"\n",
    "              1 -> \"one\"\n",
    "              2 -> \"two\"\n",
    "              3 -> \"three\"\n",
    "              4 -> \"four\"\n",
    "              5 -> \"five\"\n",
    "              6 -> \"six\"\n",
    "              7 -> \"seven\"\n",
    "              8 -> \"eight\"\n",
    "              9 -> \"nine\"\n",
    "              _ -> \"unknown\"\n",
    "\n",
    "-- Test:\n",
    "(inp, out) = ([0..10], [\"zero\",\"one\",\"two\",\"three\",\"four\",\"five\",\"six\",\"seven\",\"eight\",\"nine\",\"unknown\"])\n",
    "map englishDigit inp == out\n",
    "map englishDigit' inp == out\n",
    "map englishDigit'' inp == out\n",
    "map englishDigit''' inp == out\n",
    "map englishDigit'''' inp == out"
   ]
  },
  {
   "cell_type": "markdown",
   "metadata": {},
   "source": [
    "### 2. Given a tuple, divide fst by snd, using pattern matching. It should return undefined for division by zero."
   ]
  },
  {
   "cell_type": "code",
   "execution_count": null,
   "metadata": {
    "collapsed": true
   },
   "outputs": [],
   "source": [
    "divTuple :: (Eq a, Fractional a) => (a, a) -> a\n",
    "divTuple (x, y) = undefined"
   ]
  },
  {
   "cell_type": "markdown",
   "metadata": {},
   "source": [
    "### 3. If the first three numbers in a list are all zero, return True."
   ]
  },
  {
   "cell_type": "code",
   "execution_count": null,
   "metadata": {
    "collapsed": true
   },
   "outputs": [],
   "source": [
    "threeZeroList :: [Int] -> Bool\n",
    "threeZeroList [x] = undefined"
   ]
  }
 ],
 "metadata": {
  "kernelspec": {
   "display_name": "Haskell",
   "language": "haskell",
   "name": "haskell"
  },
  "language_info": {
   "codemirror_mode": "ihaskell",
   "file_extension": ".hs",
   "name": "haskell",
   "version": "7.10.2"
  }
 },
 "nbformat": 4,
 "nbformat_minor": 0
}
