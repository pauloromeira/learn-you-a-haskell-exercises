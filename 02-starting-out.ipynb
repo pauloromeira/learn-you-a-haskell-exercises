{
 "cells": [
  {
   "cell_type": "markdown",
   "metadata": {},
   "source": [
    "# Exercises"
   ]
  },
  {
   "cell_type": "markdown",
   "metadata": {},
   "source": [
    "## 02. Starting Out"
   ]
  },
  {
   "cell_type": "markdown",
   "metadata": {},
   "source": [
    "> Using IHaskell: https://github.com/gibiansky/IHaskell\n",
    "\n",
    "> The first function has been completed as an example. All the other functions are undefined.\n",
    "> They can be implemented in one line using the material covered in http://learnyouahaskell.com/starting-out\n",
    "\n",
    "> All indices are zero based."
   ]
  },
  {
   "cell_type": "markdown",
   "metadata": {},
   "source": [
    "### 1. Find the penultimate element in list l"
   ]
  },
  {
   "cell_type": "code",
   "execution_count": 1,
   "metadata": {
    "collapsed": false,
    "scrolled": true
   },
   "outputs": [
    {
     "data": {
      "text/plain": [
       "True"
      ]
     },
     "metadata": {},
     "output_type": "display_data"
    }
   ],
   "source": [
    "penultimate l = last (init l)\n",
    "\n",
    "-- Test:\n",
    "penultimate [1,4,10,11,22] == 11"
   ]
  },
  {
   "cell_type": "markdown",
   "metadata": {},
   "source": [
    "### 2. Find the element at index k in list l\n",
    "For example: \"`findK 2 [0,0,1,0,0,0]`\" returns `1`"
   ]
  },
  {
   "cell_type": "code",
   "execution_count": 2,
   "metadata": {
    "collapsed": false
   },
   "outputs": [
    {
     "data": {
      "text/plain": [
       "True"
      ]
     },
     "metadata": {},
     "output_type": "display_data"
    }
   ],
   "source": [
    "findK k l = l !! k\n",
    "\n",
    "-- Test:\n",
    "findK 2 [0,0,1,0,0,0] == 1"
   ]
  },
  {
   "cell_type": "markdown",
   "metadata": {},
   "source": [
    "### 3. Determine if list l is a palindrome"
   ]
  },
  {
   "cell_type": "code",
   "execution_count": 3,
   "metadata": {
    "collapsed": false
   },
   "outputs": [
    {
     "data": {
      "text/plain": [
       "True"
      ]
     },
     "metadata": {},
     "output_type": "display_data"
    }
   ],
   "source": [
    "isPalindrome l = l == reverse l\n",
    "\n",
    "-- Test:\n",
    "isPalindrome \"anna\" && not (isPalindrome \"anne\")"
   ]
  },
  {
   "cell_type": "markdown",
   "metadata": {},
   "source": [
    "### 4. Duplicate the elements in list xs\n",
    "For example \"`duplicate [1,2,3]`\" would give the list `[1,1,2,2,3,3]`\n",
    "\n",
    "Hint: The \"`concat [l]`\" function flattens a list of lists into a single list.\n",
    "\n",
    "* You can see the function definition by typing \":t concat\" into the interpreter. Perhaps try this with other variables and functions\n",
    "\n",
    "* For example: `concat [[1,2,3],[3,4,5]]` returns `[1,2,3,3,4,5]`"
   ]
  },
  {
   "cell_type": "code",
   "execution_count": 4,
   "metadata": {
    "collapsed": false
   },
   "outputs": [
    {
     "data": {
      "text/html": [
       "<style>/* Styles used for the Hoogle display in the pager */\n",
       ".hoogle-doc {\n",
       "display: block;\n",
       "padding-bottom: 1.3em;\n",
       "padding-left: 0.4em;\n",
       "}\n",
       ".hoogle-code {\n",
       "display: block;\n",
       "font-family: monospace;\n",
       "white-space: pre;\n",
       "}\n",
       ".hoogle-text {\n",
       "display: block;\n",
       "}\n",
       ".hoogle-name {\n",
       "color: green;\n",
       "font-weight: bold;\n",
       "}\n",
       ".hoogle-head {\n",
       "font-weight: bold;\n",
       "}\n",
       ".hoogle-sub {\n",
       "display: block;\n",
       "margin-left: 0.4em;\n",
       "}\n",
       ".hoogle-package {\n",
       "font-weight: bold;\n",
       "font-style: italic;\n",
       "}\n",
       ".hoogle-module {\n",
       "font-weight: bold;\n",
       "}\n",
       ".hoogle-class {\n",
       "font-weight: bold;\n",
       "}\n",
       ".get-type {\n",
       "color: green;\n",
       "font-weight: bold;\n",
       "font-family: monospace;\n",
       "display: block;\n",
       "white-space: pre-wrap;\n",
       "}\n",
       ".show-type {\n",
       "color: green;\n",
       "font-weight: bold;\n",
       "font-family: monospace;\n",
       "margin-left: 1em;\n",
       "}\n",
       ".mono {\n",
       "font-family: monospace;\n",
       "display: block;\n",
       "}\n",
       ".err-msg {\n",
       "color: red;\n",
       "font-style: italic;\n",
       "font-family: monospace;\n",
       "white-space: pre;\n",
       "display: block;\n",
       "}\n",
       "#unshowable {\n",
       "color: red;\n",
       "font-weight: bold;\n",
       "}\n",
       ".err-msg.in.collapse {\n",
       "padding-top: 0.7em;\n",
       "}\n",
       ".highlight-code {\n",
       "white-space: pre;\n",
       "font-family: monospace;\n",
       "}\n",
       ".suggestion-warning { \n",
       "font-weight: bold;\n",
       "color: rgb(200, 130, 0);\n",
       "}\n",
       ".suggestion-error { \n",
       "font-weight: bold;\n",
       "color: red;\n",
       "}\n",
       ".suggestion-name {\n",
       "font-weight: bold;\n",
       "}\n",
       "</style><span class='get-type'>concat :: forall (t :: * -> *) a. Foldable t => t [a] -> [a]</span>"
      ],
      "text/plain": [
       "concat :: forall (t :: * -> *) a. Foldable t => t [a] -> [a]"
      ]
     },
     "metadata": {},
     "output_type": "display_data"
    }
   ],
   "source": [
    ":t concat"
   ]
  },
  {
   "cell_type": "code",
   "execution_count": 5,
   "metadata": {
    "collapsed": false
   },
   "outputs": [
    {
     "data": {
      "text/plain": [
       "True"
      ]
     },
     "metadata": {},
     "output_type": "display_data"
    }
   ],
   "source": [
    "duplicate xs = concat [[x,x] | x <- xs]\n",
    "\n",
    "-- Test:\n",
    "duplicate [1,2,3] == [1,1,2,2,3,3]"
   ]
  },
  {
   "cell_type": "markdown",
   "metadata": {},
   "source": [
    "### 5. Imitate the functinality of zip\n",
    "For example \"`ziplike [1,2,3] ['a', 'b', 'c', 'd']`\" returns `[(1,'a'), (2, 'b'), (3, 'c')]`\n",
    "\n",
    "Hint: the function \"`min x y`\" returns the lower of values x and y"
   ]
  },
  {
   "cell_type": "code",
   "execution_count": 6,
   "metadata": {
    "collapsed": false
   },
   "outputs": [
    {
     "data": {
      "text/plain": [
       "True"
      ]
     },
     "metadata": {},
     "output_type": "display_data"
    }
   ],
   "source": [
    "ziplike xs ys = [(xs !! i, ys !! i) | i <- [0..min (length xs) (length ys)-1]]\n",
    "\n",
    "-- Test:\n",
    "ziplike [1,2,3] \"abcd\" == [(1,'a'), (2, 'b'), (3, 'c')]"
   ]
  },
  {
   "cell_type": "markdown",
   "metadata": {},
   "source": [
    "### 6. Split a list l at element k into a tuple: The first part up to and including k, the second part after k\n",
    "For example \"`splitAtIndex 3 [1,1,1,2,2,2]`\" returns `([1,1,1],[2,2,2])`"
   ]
  },
  {
   "cell_type": "code",
   "execution_count": 7,
   "metadata": {
    "collapsed": false
   },
   "outputs": [
    {
     "data": {
      "text/plain": [
       "True"
      ]
     },
     "metadata": {},
     "output_type": "display_data"
    }
   ],
   "source": [
    "splitAtIndex k l = (take k l, drop k l)\n",
    "\n",
    "-- Test:\n",
    "splitAtIndex 3 [1,1,1,2,2,2] == ([1,1,1],[2,2,2])"
   ]
  },
  {
   "cell_type": "markdown",
   "metadata": {},
   "source": [
    "### 7. Drop the element at index k in list l\n",
    "For example \"`dropK 3 [0,0,0,1,0,0,0]`\" returns `[0,0,0,0,0,0]`"
   ]
  },
  {
   "cell_type": "code",
   "execution_count": 8,
   "metadata": {
    "collapsed": false
   },
   "outputs": [
    {
     "data": {
      "text/plain": [
       "True"
      ]
     },
     "metadata": {},
     "output_type": "display_data"
    }
   ],
   "source": [
    "dropK k l = take k l ++ drop (k + 1) l\n",
    "\n",
    "-- Test:\n",
    "dropK 3 [0,0,0,1,0,0,0] == [0,0,0,0,0,0]"
   ]
  },
  {
   "cell_type": "markdown",
   "metadata": {},
   "source": [
    "### 8. Extract elements between ith and kth element in list l. Including i, but not k\n",
    "For example, \"`slice 3 6 [0,0,0,1,2,3,0,0,0]`\" returns `[1,2,3]`"
   ]
  },
  {
   "cell_type": "code",
   "execution_count": 9,
   "metadata": {
    "collapsed": false
   },
   "outputs": [
    {
     "data": {
      "text/plain": [
       "True"
      ]
     },
     "metadata": {},
     "output_type": "display_data"
    }
   ],
   "source": [
    "slice i k l = drop i $ take k l\n",
    "\n",
    "-- Test:\n",
    "slice 3 6 [0,0,0,1,2,3,0,0,0] == [1,2,3]"
   ]
  },
  {
   "cell_type": "markdown",
   "metadata": {},
   "source": [
    "### 9. Insert element x in list l at index k\n",
    "For example, \"`insertElem 2 5 [0,0,0,0,0,0]`\" returns `[0,0,0,0,0,2,0]`"
   ]
  },
  {
   "cell_type": "code",
   "execution_count": 10,
   "metadata": {
    "collapsed": false
   },
   "outputs": [
    {
     "data": {
      "text/plain": [
       "True"
      ]
     },
     "metadata": {},
     "output_type": "display_data"
    }
   ],
   "source": [
    "insertElem x k l = take k l ++ x : drop k l\n",
    "\n",
    "-- Test:\n",
    "insertElem 2 5 [0,0,0,0,0,0] == [0,0,0,0,0,2,0]"
   ]
  },
  {
   "cell_type": "markdown",
   "metadata": {},
   "source": [
    "### 10. Rotate list l n places left\n",
    "For example, \"`rotate 2 [1,2,3,4,5]`\" gives `[3,4,5,1,2]`"
   ]
  },
  {
   "cell_type": "code",
   "execution_count": 11,
   "metadata": {
    "collapsed": false
   },
   "outputs": [
    {
     "data": {
      "text/plain": [
       "True"
      ]
     },
     "metadata": {},
     "output_type": "display_data"
    }
   ],
   "source": [
    "rotate n l = drop n l ++ take n l\n",
    "\n",
    "-- Test\n",
    "rotate 2 [1,2,3,4,5] == [3,4,5,1,2]"
   ]
  }
 ],
 "metadata": {
  "kernelspec": {
   "display_name": "Haskell",
   "language": "haskell",
   "name": "haskell"
  },
  "language_info": {
   "codemirror_mode": "ihaskell",
   "file_extension": ".hs",
   "name": "haskell",
   "version": "7.10.2"
  }
 },
 "nbformat": 4,
 "nbformat_minor": 0
}
