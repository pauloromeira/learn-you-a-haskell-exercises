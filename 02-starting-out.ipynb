{
 "cells": [
  {
   "cell_type": "markdown",
   "metadata": {},
   "source": [
    "# Exercises"
   ]
  },
  {
   "cell_type": "markdown",
   "metadata": {},
   "source": [
    "## 02. Starting Out"
   ]
  },
  {
   "cell_type": "markdown",
   "metadata": {},
   "source": [
    "> Using IHaskell: https://github.com/gibiansky/IHaskell\n",
    "\n",
    "> The first function has been completed as an example. All the other functions are undefined.\n",
    "> They can be implemented in one line using the material covered in http://learnyouahaskell.com/starting-out\n",
    "\n",
    "> All indices are zero based."
   ]
  },
  {
   "cell_type": "markdown",
   "metadata": {},
   "source": [
    "### 1. Find the penultimate element in list l"
   ]
  },
  {
   "cell_type": "code",
   "execution_count": 1,
   "metadata": {
    "collapsed": false,
    "scrolled": true
   },
   "outputs": [
    {
     "data": {
      "text/plain": [
       "True"
      ]
     },
     "metadata": {},
     "output_type": "display_data"
    }
   ],
   "source": [
    "penultimate l = last (init l)\n",
    "\n",
    "-- Test:\n",
    "penultimate [1,4,10,11,22] == 11"
   ]
  },
  {
   "cell_type": "markdown",
   "metadata": {},
   "source": [
    "### 2. Find the element at index k in list l\n",
    "For example: \"`findK 2 [0,0,1,0,0,0]`\" returns `1`"
   ]
  },
  {
   "cell_type": "code",
   "execution_count": null,
   "metadata": {
    "collapsed": true
   },
   "outputs": [],
   "source": [
    "findK k l = undefined\n",
    "\n",
    "-- Test:\n",
    "findK 2 [0,0,1,0,0,0] == 1"
   ]
  },
  {
   "cell_type": "markdown",
   "metadata": {},
   "source": [
    "### 3. Determine if list l is a palindrome"
   ]
  },
  {
   "cell_type": "code",
   "execution_count": null,
   "metadata": {
    "collapsed": true
   },
   "outputs": [],
   "source": [
    "isPalindrome l = undefined\n",
    "\n",
    "-- Test:\n",
    "isPalindrome \"anna\" && not (isPalindrome \"anne\")"
   ]
  },
  {
   "cell_type": "markdown",
   "metadata": {},
   "source": [
    "### 4. Duplicate the elements in list xs\n",
    "For example \"`duplicate [1,2,3]`\" would give the list `[1,1,2,2,3,3]`\n",
    "\n",
    "Hint: The \"`concat [l]`\" function flattens a list of lists into a single list.\n",
    "\n",
    "* You can see the function definition by typing \":t concat\" into the interpreter. Perhaps try this with other variables and functions\n",
    "\n",
    "* For example: `concat [[1,2,3],[3,4,5]]` returns `[1,2,3,3,4,5]`"
   ]
  },
  {
   "cell_type": "code",
   "execution_count": null,
   "metadata": {
    "collapsed": true
   },
   "outputs": [],
   "source": [
    "duplicate xs = undefined\n",
    "\n",
    "-- Test:\n",
    "duplicate [1,2,3] == [1,1,2,2,3,3]"
   ]
  },
  {
   "cell_type": "markdown",
   "metadata": {},
   "source": [
    "### 5. Imitate the functinality of zip\n",
    "For example \"`ziplike [1,2,3] ['a', 'b', 'c', 'd']`\" returns `[(1,'a'), (2, 'b'), (3, 'c')]`\n",
    "\n",
    "Hint: the function \"`min x y`\" returns the lower of values x and y"
   ]
  },
  {
   "cell_type": "code",
   "execution_count": null,
   "metadata": {
    "collapsed": true
   },
   "outputs": [],
   "source": [
    "ziplike xs ys = undefined\n",
    "\n",
    "-- Test:\n",
    "ziplike [1,2,3] ['a', 'b', 'c', 'd'] == [(1,'a'), (2, 'b'), (3, 'c')]"
   ]
  },
  {
   "cell_type": "markdown",
   "metadata": {},
   "source": [
    "### 6. Split a list l at element k into a tuple: The first part up to and including k, the second part after k\n",
    "For example \"`splitAtIndex 3 [1,1,1,2,2,2]`\" returns `([1,1,1],[2,2,2])`"
   ]
  },
  {
   "cell_type": "code",
   "execution_count": null,
   "metadata": {
    "collapsed": true
   },
   "outputs": [],
   "source": [
    "splitAtIndex k l = undefined\n",
    "\n",
    "-- Test:\n",
    "splitAtIndex 3 [1,1,1,2,2,2] == ([1,1,1],[2,2,2])"
   ]
  },
  {
   "cell_type": "markdown",
   "metadata": {},
   "source": [
    "### 7. Drop the element at index k in list l\n",
    "For example \"`dropK 3 [0,0,0,1,0,0,0]`\" returns `[0,0,0,0,0,0]`"
   ]
  },
  {
   "cell_type": "code",
   "execution_count": null,
   "metadata": {
    "collapsed": true
   },
   "outputs": [],
   "source": [
    "dropK k l = undefined\n",
    "\n",
    "-- Test:\n",
    "dropK 3 [0,0,0,1,0,0,0] == [0,0,0,0,0,0]"
   ]
  },
  {
   "cell_type": "markdown",
   "metadata": {},
   "source": [
    "### 8. Extract elements between ith and kth element in list l. Including i, but not k\n",
    "For example, \"`slice 3 6 [0,0,0,1,2,3,0,0,0]`\" returns `[1,2,3]`"
   ]
  },
  {
   "cell_type": "code",
   "execution_count": null,
   "metadata": {
    "collapsed": true
   },
   "outputs": [],
   "source": [
    "slice i k l = undefined\n",
    "\n",
    "-- Test:\n",
    "slice 3 6 [0,0,0,1,2,3,0,0,0] == [1,2,3]"
   ]
  },
  {
   "cell_type": "markdown",
   "metadata": {},
   "source": [
    "### 9. Insert element x in list l at index k\n",
    "For example, \"`insertElem 2 5 [0,0,0,0,0,0]`\" returns `[0,0,0,0,0,2,0]`"
   ]
  },
  {
   "cell_type": "code",
   "execution_count": null,
   "metadata": {
    "collapsed": true
   },
   "outputs": [],
   "source": [
    "insertElem x k l = undefined\n",
    "\n",
    "-- Test:\n",
    "insertElem 2 5 [0,0,0,0,0,0] == [0,0,0,0,0,2,0]"
   ]
  },
  {
   "cell_type": "markdown",
   "metadata": {},
   "source": [
    "### 10. Rotate list l n places left\n",
    "For example, \"`rotate 2 [1,2,3,4,5]`\" gives `[3,4,5,1,2]`"
   ]
  },
  {
   "cell_type": "code",
   "execution_count": null,
   "metadata": {
    "collapsed": true
   },
   "outputs": [],
   "source": [
    "rotate n l = undefined\n",
    "\n",
    "-- Test\n",
    "rotate 2 [1,2,3,4,5] == [3,4,5,1,2]"
   ]
  }
 ],
 "metadata": {
  "kernelspec": {
   "display_name": "Haskell",
   "language": "haskell",
   "name": "haskell"
  },
  "language_info": {
   "codemirror_mode": "ihaskell",
   "file_extension": ".hs",
   "name": "haskell",
   "version": "7.10.2"
  }
 },
 "nbformat": 4,
 "nbformat_minor": 0
}
