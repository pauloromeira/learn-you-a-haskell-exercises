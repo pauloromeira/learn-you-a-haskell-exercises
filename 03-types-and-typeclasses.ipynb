{
 "cells": [
  {
   "cell_type": "markdown",
   "metadata": {},
   "source": [
    "# Exercises"
   ]
  },
  {
   "cell_type": "markdown",
   "metadata": {},
   "source": [
    "## 03. Types and Typeclasses"
   ]
  },
  {
   "cell_type": "markdown",
   "metadata": {},
   "source": [
    "> Using IHaskell: https://github.com/gibiansky/IHaskell\n",
    "\n",
    ">For this exercise, we are dealing with a type for colours of the rainbow  \n",
    ">The typeclass is defined here, and note its English spelling.  \n",
    ">For more information on how this is done, look ahead to:  \n",
    ">http://learnyouahaskell.com/making-our-own-types-and-typeclasses\n",
    "\n",
    ">Have a play with the Colour in ghci, try the succ and pred functions and so on.\n",
    "\n",
    ">Again, you should be able to write these functions in one line,  \n",
    ">using the information from the chapter http://learnyouahaskell.com/types-and-typeclasses  \n",
    ">and the chapter before"
   ]
  },
  {
   "cell_type": "code",
   "execution_count": 1,
   "metadata": {
    "collapsed": true
   },
   "outputs": [],
   "source": [
    "data Colour = Red | Orange | Yellow | Green | Blue | Indigo | Violet\n",
    "    deriving (Eq, Ord, Show, Bounded, Enum)"
   ]
  },
  {
   "cell_type": "markdown",
   "metadata": {},
   "source": [
    "### 1. The Colour typeclass is of type Ord. What is the \"first\" (or least) colour?"
   ]
  },
  {
   "cell_type": "code",
   "execution_count": 2,
   "metadata": {
    "collapsed": false,
    "scrolled": true
   },
   "outputs": [
    {
     "data": {
      "text/plain": [
       "True"
      ]
     },
     "metadata": {},
     "output_type": "display_data"
    }
   ],
   "source": [
    "firstColour = minBound :: Colour\n",
    "\n",
    "-- Test\n",
    "firstColour == Red"
   ]
  },
  {
   "cell_type": "markdown",
   "metadata": {},
   "source": [
    "### 2. List the colours in reverse order"
   ]
  },
  {
   "cell_type": "code",
   "execution_count": 3,
   "metadata": {
    "collapsed": false
   },
   "outputs": [
    {
     "data": {
      "text/plain": [
       "True"
      ]
     },
     "metadata": {},
     "output_type": "display_data"
    },
    {
     "data": {
      "text/plain": [
       "True"
      ]
     },
     "metadata": {},
     "output_type": "display_data"
    }
   ],
   "source": [
    "reverseColourOrder = reverse [minBound :: Colour ..]\n",
    "\n",
    "-- Markham's solution:\n",
    "reverseColourOrder' = reverse [minBound .. maxBound] :: [Colour]\n",
    "\n",
    "-- Test\n",
    "rev = [Violet,Indigo,Blue,Green,Yellow,Orange,Red]\n",
    "reverseColourOrder == rev\n",
    "reverseColourOrder' == rev"
   ]
  },
  {
   "cell_type": "markdown",
   "metadata": {},
   "source": [
    "### 3. Mix two colours together, to produce the average value of the two\n",
    "Example: `paintMix Orange Green = Yellow`  \n",
    "If necessary, favour the \"higher\" value when computing the average.  \n",
    "For example: paintMix Green Violet = Indigo\n",
    "\n",
    "Hint: Integer division can be performed with the quot function: `quot 7 2 = 3`"
   ]
  },
  {
   "cell_type": "code",
   "execution_count": 4,
   "metadata": {
    "collapsed": false
   },
   "outputs": [
    {
     "data": {
      "text/plain": [
       "True"
      ]
     },
     "metadata": {},
     "output_type": "display_data"
    },
    {
     "data": {
      "text/plain": [
       "True"
      ]
     },
     "metadata": {},
     "output_type": "display_data"
    }
   ],
   "source": [
    "paintMix c1 c2 = toEnum $ ceiling (fromIntegral (fromEnum c1 + fromEnum c2) / 2) :: Colour\n",
    "\n",
    "-- Markham's solution:\n",
    "paintMix' c1 c2 = [(min c1 c2) .. (max c1 c2)]!!(quot (length[(min c1 c2) .. (max c1 c2)]) 2)\n",
    "\n",
    "-- Test\n",
    "paintMix Green Violet == Indigo\n",
    "paintMix' Green Violet == Indigo"
   ]
  }
 ],
 "metadata": {
  "kernelspec": {
   "display_name": "Haskell",
   "language": "haskell",
   "name": "haskell"
  },
  "language_info": {
   "codemirror_mode": "ihaskell",
   "file_extension": ".hs",
   "name": "haskell",
   "version": "7.10.2"
  }
 },
 "nbformat": 4,
 "nbformat_minor": 0
}
